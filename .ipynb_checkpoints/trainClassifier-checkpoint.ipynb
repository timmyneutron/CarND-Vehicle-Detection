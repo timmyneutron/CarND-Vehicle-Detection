{
 "cells": [
  {
   "cell_type": "code",
   "execution_count": 1,
   "metadata": {
    "collapsed": false
   },
   "outputs": [
    {
     "name": "stderr",
     "output_type": "stream",
     "text": [
      "Using TensorFlow backend.\n"
     ]
    }
   ],
   "source": [
    "import numpy as np\n",
    "import cv2\n",
    "from glob import glob\n",
    "\n",
    "from keras.preprocessing.image import ImageDataGenerator\n",
    "from keras.models import Sequential\n",
    "from keras.layers import Lambda, MaxPooling2D, Flatten, Convolution2D, Dense\n",
    "\n",
    "from sklearn.model_selection import train_test_split\n",
    "from sklearn.preprocessing import LabelBinarizer, OneHotEncoder\n",
    "from sklearn.utils import shuffle\n",
    "\n",
    "import matplotlib.pyplot as plt\n",
    "import matplotlib.image as mpimg\n",
    "from PIL import Image\n",
    "\n",
    "from moviepy.editor import VideoFileClip\n",
    "from IPython.display import HTML\n",
    "\n",
    "%matplotlib inline"
   ]
  },
  {
   "cell_type": "code",
   "execution_count": 2,
   "metadata": {
    "collapsed": false
   },
   "outputs": [
    {
     "ename": "TypeError",
     "evalue": "int() argument must be a string, a bytes-like object or a number, not 'Image'",
     "output_type": "error",
     "traceback": [
      "\u001b[0;31m---------------------------------------------------------------------------\u001b[0m",
      "\u001b[0;31mTypeError\u001b[0m                                 Traceback (most recent call last)",
      "\u001b[0;32m<ipython-input-2-8d6707860c77>\u001b[0m in \u001b[0;36m<module>\u001b[0;34m()\u001b[0m\n\u001b[1;32m      8\u001b[0m     \u001b[0;32mreturn\u001b[0m \u001b[0mres\u001b[0m\u001b[0;34m\u001b[0m\u001b[0m\n\u001b[1;32m      9\u001b[0m \u001b[0;34m\u001b[0m\u001b[0m\n\u001b[0;32m---> 10\u001b[0;31m \u001b[0mcar_imgs\u001b[0m \u001b[0;34m=\u001b[0m \u001b[0mnp\u001b[0m\u001b[0;34m.\u001b[0m\u001b[0marray\u001b[0m\u001b[0;34m(\u001b[0m\u001b[0;34m[\u001b[0m\u001b[0mpreprocess\u001b[0m\u001b[0;34m(\u001b[0m\u001b[0mimg_path\u001b[0m\u001b[0;34m)\u001b[0m \u001b[0;32mfor\u001b[0m \u001b[0mimg_path\u001b[0m \u001b[0;32min\u001b[0m \u001b[0mcar_paths\u001b[0m\u001b[0;34m]\u001b[0m\u001b[0;34m)\u001b[0m\u001b[0;34m\u001b[0m\u001b[0m\n\u001b[0m\u001b[1;32m     11\u001b[0m \u001b[0mnon_car_imgs\u001b[0m \u001b[0;34m=\u001b[0m \u001b[0mnp\u001b[0m\u001b[0;34m.\u001b[0m\u001b[0marray\u001b[0m\u001b[0;34m(\u001b[0m\u001b[0;34m[\u001b[0m\u001b[0mpreprocess\u001b[0m\u001b[0;34m(\u001b[0m\u001b[0mimg_path\u001b[0m\u001b[0;34m)\u001b[0m \u001b[0;32mfor\u001b[0m \u001b[0mimg_path\u001b[0m \u001b[0;32min\u001b[0m \u001b[0mnon_car_paths\u001b[0m\u001b[0;34m]\u001b[0m\u001b[0;34m)\u001b[0m\u001b[0;34m\u001b[0m\u001b[0m\n\u001b[1;32m     12\u001b[0m \u001b[0;34m\u001b[0m\u001b[0m\n",
      "\u001b[0;31mTypeError\u001b[0m: int() argument must be a string, a bytes-like object or a number, not 'Image'"
     ]
    }
   ],
   "source": [
    "car_paths = glob(\"training_images/vehicles/*/*.png\")\n",
    "non_car_paths = glob(\"training_images/non-vehicles/*/*.png\")\n",
    "\n",
    "def preprocess(image_path):\n",
    "    image = mpimg.imread(image_path)\n",
    "    image = cv2.resize(image, (32, 32), interpolation = cv2.INTER_CUBIC)\n",
    "    \n",
    "    return image\n",
    "\n",
    "car_imgs = np.array([preprocess(img_path) for img_path in car_paths])\n",
    "non_car_imgs = np.array([preprocess(img_path) for img_path in non_car_paths])\n",
    "\n",
    "X_train = np.concatenate((car_imgs, non_car_imgs))\n",
    "\n",
    "nb_car_imgs = car_imgs.shape[0]\n",
    "nb_non_car_imgs = non_car_imgs.shape[0]\n",
    "\n",
    "y_car_ones = np.ones((nb_car_imgs, 1))\n",
    "y_car_zeros = np.zeros((nb_car_imgs, 1))\n",
    "y_car = np.concatenate((y_car_zeros, y_car_ones), axis=1)\n",
    "\n",
    "y_non_car_ones = np.ones((nb_non_car_imgs, 1))\n",
    "y_non_car_zeros = np.zeros((nb_non_car_imgs, 1))\n",
    "y_non_car = np.concatenate((y_non_car_ones, y_non_car_zeros), axis=1)\n",
    "\n",
    "y_one_hot = np.concatenate((y_car, y_non_car), axis=0)"
   ]
  },
  {
   "cell_type": "code",
   "execution_count": null,
   "metadata": {
    "collapsed": false
   },
   "outputs": [],
   "source": [
    "X_train, y_one_hot = shuffle(X_train, y_one_hot)\n",
    "\n",
    "X_train, X_valid, y_train, y_valid = train_test_split(X_train, y_one_hot, test_size=0.2, random_state=42)\n",
    "\n",
    "nb_train_samples, height, width, nb_channels = X_train.shape\n",
    "nb_valid_samples = X_valid.shape[0]\n",
    "\n",
    "train_generator = ImageDataGenerator().flow(X_train, y_train, batch_size=32)\n",
    "valid_generator = ImageDataGenerator().flow(X_valid, y_valid, batch_size=32)"
   ]
  },
  {
   "cell_type": "code",
   "execution_count": null,
   "metadata": {
    "collapsed": false
   },
   "outputs": [],
   "source": [
    "model = Sequential()\n",
    "\n",
    "model.add(Lambda(lambda x: x / 127.5 - 1., input_shape=(height, width, nb_channels)))\n",
    "\n",
    "model.add(Convolution2D(6, 5, 5, border_mode=\"valid\", activation=\"relu\"))\n",
    "\n",
    "model.add(MaxPooling2D(pool_size=(2, 2), border_mode=\"valid\"))\n",
    "\n",
    "model.add(Convolution2D(16, 5, 5, border_mode=\"valid\", activation=\"relu\"))\n",
    "\n",
    "model.add(MaxPooling2D(pool_size=(2, 2), border_mode=\"valid\"))\n",
    "\n",
    "model.add(Flatten())\n",
    "\n",
    "model.add(Dense(128, activation=\"relu\"))\n",
    "\n",
    "model.add(Dense(64, activation=\"relu\"))\n",
    "\n",
    "model.add(Dense(2, activation=\"softmax\"))\n",
    "\n",
    "model.compile('adam', 'categorical_crossentropy', ['accuracy'])\n",
    "\n",
    "model.fit_generator(train_generator, samples_per_epoch=nb_train_samples,\n",
    "                    nb_epoch=5, validation_data=valid_generator,\n",
    "                    nb_val_samples=nb_valid_samples)\n",
    "\n",
    "json_string = model.to_json()\n",
    "with open(\"model.json\", \"w\") as json_file:\n",
    "    json_file.write(json_string)\n",
    "\n",
    "model.save_weights('model.h5')"
   ]
  }
 ],
 "metadata": {
  "anaconda-cloud": {},
  "kernelspec": {
   "display_name": "Python [carnd-term1]",
   "language": "python",
   "name": "Python [carnd-term1]"
  },
  "language_info": {
   "codemirror_mode": {
    "name": "ipython",
    "version": 3
   },
   "file_extension": ".py",
   "mimetype": "text/x-python",
   "name": "python",
   "nbconvert_exporter": "python",
   "pygments_lexer": "ipython3",
   "version": "3.5.2"
  }
 },
 "nbformat": 4,
 "nbformat_minor": 0
}
